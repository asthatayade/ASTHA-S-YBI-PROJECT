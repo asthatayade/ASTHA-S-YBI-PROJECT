{
  "metadata": {
    "kernelspec": {
      "language": "python",
      "display_name": "Python 3",
      "name": "python3"
    },
    "language_info": {
      "name": "python",
      "version": "3.10.13",
      "mimetype": "text/x-python",
      "codemirror_mode": {
        "name": "ipython",
        "version": 3
      },
      "pygments_lexer": "ipython3",
      "nbconvert_exporter": "python",
      "file_extension": ".py"
    },
    "kaggle": {
      "accelerator": "none",
      "dataSources": [
        {
          "sourceId": 8939322,
          "sourceType": "datasetVersion",
          "datasetId": 5378683
        }
      ],
      "dockerImageVersionId": 30746,
      "isInternetEnabled": true,
      "language": "python",
      "sourceType": "notebook",
      "isGpuEnabled": false
    },
    "colab": {
      "name": "YBI PROJECT SUBMISSION",
      "provenance": [],
      "include_colab_link": true
    }
  },
  "nbformat_minor": 0,
  "nbformat": 4,
  "cells": [
    {
      "cell_type": "markdown",
      "metadata": {
        "id": "view-in-github",
        "colab_type": "text"
      },
      "source": [
        "<a href=\"https://colab.research.google.com/github/asthatayade/ASTHA-S-YBI-PROJECT/blob/main/YBI_PROJECT_SUBMISSIONN.ipynb\" target=\"_parent\"><img src=\"https://colab.research.google.com/assets/colab-badge.svg\" alt=\"Open In Colab\"/></a>"
      ]
    },
    {
      "source": [
        "\n",
        "# IMPORTANT: RUN THIS CELL IN ORDER TO IMPORT YOUR KAGGLE DATA SOURCES\n",
        "# TO THE CORRECT LOCATION (/kaggle/input) IN YOUR NOTEBOOK,\n",
        "# THEN FEEL FREE TO DELETE THIS CELL.\n",
        "# NOTE: THIS NOTEBOOK ENVIRONMENT DIFFERS FROM KAGGLE'S PYTHON\n",
        "# ENVIRONMENT SO THERE MAY BE MISSING LIBRARIES USED BY YOUR\n",
        "# NOTEBOOK.\n",
        "\n",
        "import os\n",
        "import sys\n",
        "from tempfile import NamedTemporaryFile\n",
        "from urllib.request import urlopen\n",
        "from urllib.parse import unquote, urlparse\n",
        "from urllib.error import HTTPError\n",
        "from zipfile import ZipFile\n",
        "import tarfile\n",
        "import shutil\n",
        "\n",
        "CHUNK_SIZE = 40960\n",
        "DATA_SOURCE_MAPPING = 'servo-ybi:https%3A%2F%2Fstorage.googleapis.com%2Fkaggle-data-sets%2F5378683%2F8939322%2Fbundle%2Farchive.zip%3FX-Goog-Algorithm%3DGOOG4-RSA-SHA256%26X-Goog-Credential%3Dgcp-kaggle-com%2540kaggle-161607.iam.gserviceaccount.com%252F20240713%252Fauto%252Fstorage%252Fgoog4_request%26X-Goog-Date%3D20240713T051747Z%26X-Goog-Expires%3D259200%26X-Goog-SignedHeaders%3Dhost%26X-Goog-Signature%3D08b4e4516218e2e2f8e333e3416ec1875a8c84d35a49887674f1f9cb6bb2be7f7bedb6a0545031702b9c04b114c1d0869b2f4034d1f1a391d518bf7706c143ce776eb957e46bf1683741f4394bc69fb57a76ff6743b89e39a8520685737008038a1fcfaeb123a2daf077a88bc1501ed3ee6b32df9b7e5c0f1b17e9691c902043cef77ac3217a5d8720ec43e13c02f54a17d83ce02c2e9f626c50fe4528b580d2bfdb6cc38879936f92ea739a071051f51465490938218031687fd8dbff93940c2e6833f16fd38dccb26d9c1195d27ecba082af400541e6e423ceac0ff4bc447593cb1323d7c5d1961d800dcbd5df7c6ff83d467bdbfd93bc1da30c846897b6d0'\n",
        "\n",
        "KAGGLE_INPUT_PATH='/kaggle/input'\n",
        "KAGGLE_WORKING_PATH='/kaggle/working'\n",
        "KAGGLE_SYMLINK='kaggle'\n",
        "\n",
        "!umount /kaggle/input/ 2> /dev/null\n",
        "shutil.rmtree('/kaggle/input', ignore_errors=True)\n",
        "os.makedirs(KAGGLE_INPUT_PATH, 0o777, exist_ok=True)\n",
        "os.makedirs(KAGGLE_WORKING_PATH, 0o777, exist_ok=True)\n",
        "\n",
        "try:\n",
        "  os.symlink(KAGGLE_INPUT_PATH, os.path.join(\"..\", 'input'), target_is_directory=True)\n",
        "except FileExistsError:\n",
        "  pass\n",
        "try:\n",
        "  os.symlink(KAGGLE_WORKING_PATH, os.path.join(\"..\", 'working'), target_is_directory=True)\n",
        "except FileExistsError:\n",
        "  pass\n",
        "\n",
        "for data_source_mapping in DATA_SOURCE_MAPPING.split(','):\n",
        "    directory, download_url_encoded = data_source_mapping.split(':')\n",
        "    download_url = unquote(download_url_encoded)\n",
        "    filename = urlparse(download_url).path\n",
        "    destination_path = os.path.join(KAGGLE_INPUT_PATH, directory)\n",
        "    try:\n",
        "        with urlopen(download_url) as fileres, NamedTemporaryFile() as tfile:\n",
        "            total_length = fileres.headers['content-length']\n",
        "            print(f'Downloading {directory}, {total_length} bytes compressed')\n",
        "            dl = 0\n",
        "            data = fileres.read(CHUNK_SIZE)\n",
        "            while len(data) > 0:\n",
        "                dl += len(data)\n",
        "                tfile.write(data)\n",
        "                done = int(50 * dl / int(total_length))\n",
        "                sys.stdout.write(f\"\\r[{'=' * done}{' ' * (50-done)}] {dl} bytes downloaded\")\n",
        "                sys.stdout.flush()\n",
        "                data = fileres.read(CHUNK_SIZE)\n",
        "            if filename.endswith('.zip'):\n",
        "              with ZipFile(tfile) as zfile:\n",
        "                zfile.extractall(destination_path)\n",
        "            else:\n",
        "              with tarfile.open(tfile.name) as tarfile:\n",
        "                tarfile.extractall(destination_path)\n",
        "            print(f'\\nDownloaded and uncompressed: {directory}')\n",
        "    except HTTPError as e:\n",
        "        print(f'Failed to load (likely expired) {download_url} to path {destination_path}')\n",
        "        continue\n",
        "    except OSError as e:\n",
        "        print(f'Failed to load {download_url} to path {destination_path}')\n",
        "        continue\n",
        "\n",
        "print('Data source import complete.')\n"
      ],
      "metadata": {
        "id": "B0tg3R6vhsED"
      },
      "cell_type": "code",
      "outputs": [],
      "execution_count": null
    },
    {
      "cell_type": "code",
      "source": [
        "#Servo Prediction using Linear Regression"
      ],
      "metadata": {
        "execution": {
          "iopub.status.busy": "2024-07-13T04:38:54.08015Z",
          "iopub.execute_input": "2024-07-13T04:38:54.080559Z",
          "iopub.status.idle": "2024-07-13T04:38:54.086086Z",
          "shell.execute_reply.started": "2024-07-13T04:38:54.080525Z",
          "shell.execute_reply": "2024-07-13T04:38:54.084127Z"
        },
        "trusted": true,
        "id": "WBSWzNyIhsEF"
      },
      "execution_count": null,
      "outputs": []
    },
    {
      "cell_type": "code",
      "source": [
        "#Objective:Developing a linear regression model that accurately predicts the behavior or position of a servo motor based on input features."
      ],
      "metadata": {
        "execution": {
          "iopub.status.busy": "2024-07-13T04:38:55.399871Z",
          "iopub.execute_input": "2024-07-13T04:38:55.400272Z",
          "iopub.status.idle": "2024-07-13T04:38:55.405365Z",
          "shell.execute_reply.started": "2024-07-13T04:38:55.400232Z",
          "shell.execute_reply": "2024-07-13T04:38:55.403934Z"
        },
        "trusted": true,
        "id": "U-nT1NRGhsEF"
      },
      "execution_count": null,
      "outputs": []
    },
    {
      "cell_type": "code",
      "source": [
        "import numpy as np\n",
        "import pandas as pd\n",
        "from matplotlib import pyplot as plt"
      ],
      "metadata": {
        "execution": {
          "iopub.status.busy": "2024-07-13T04:39:09.349719Z",
          "iopub.execute_input": "2024-07-13T04:39:09.350289Z",
          "iopub.status.idle": "2024-07-13T04:39:09.356049Z",
          "shell.execute_reply.started": "2024-07-13T04:39:09.350249Z",
          "shell.execute_reply": "2024-07-13T04:39:09.354574Z"
        },
        "trusted": true,
        "id": "z6UXQ7HdhsEF"
      },
      "execution_count": null,
      "outputs": []
    },
    {
      "cell_type": "code",
      "source": [
        "data= pd.read_csv('/kaggle/input/servo-ybi/Servo Mechanism.csv')"
      ],
      "metadata": {
        "execution": {
          "iopub.status.busy": "2024-07-13T04:39:11.375866Z",
          "iopub.execute_input": "2024-07-13T04:39:11.376305Z",
          "iopub.status.idle": "2024-07-13T04:39:11.397627Z",
          "shell.execute_reply.started": "2024-07-13T04:39:11.376267Z",
          "shell.execute_reply": "2024-07-13T04:39:11.396309Z"
        },
        "trusted": true,
        "id": "WL26X71ShsEG"
      },
      "execution_count": null,
      "outputs": []
    },
    {
      "cell_type": "code",
      "source": [
        "#data describing"
      ],
      "metadata": {
        "execution": {
          "iopub.status.busy": "2024-07-13T04:39:13.290519Z",
          "iopub.execute_input": "2024-07-13T04:39:13.290902Z",
          "iopub.status.idle": "2024-07-13T04:39:13.296009Z",
          "shell.execute_reply.started": "2024-07-13T04:39:13.290871Z",
          "shell.execute_reply": "2024-07-13T04:39:13.294724Z"
        },
        "trusted": true,
        "id": "64-Hix_rhsEG"
      },
      "execution_count": null,
      "outputs": []
    },
    {
      "cell_type": "code",
      "source": [
        "data.head()"
      ],
      "metadata": {
        "execution": {
          "iopub.status.busy": "2024-07-13T04:39:14.299861Z",
          "iopub.execute_input": "2024-07-13T04:39:14.300281Z",
          "iopub.status.idle": "2024-07-13T04:39:14.321667Z",
          "shell.execute_reply.started": "2024-07-13T04:39:14.30025Z",
          "shell.execute_reply": "2024-07-13T04:39:14.320287Z"
        },
        "trusted": true,
        "id": "xQRpz5vQhsEG"
      },
      "execution_count": null,
      "outputs": []
    },
    {
      "cell_type": "code",
      "source": [
        "data.describe()"
      ],
      "metadata": {
        "execution": {
          "iopub.status.busy": "2024-07-13T04:39:16.215469Z",
          "iopub.execute_input": "2024-07-13T04:39:16.215911Z",
          "iopub.status.idle": "2024-07-13T04:39:16.242319Z",
          "shell.execute_reply.started": "2024-07-13T04:39:16.215878Z",
          "shell.execute_reply": "2024-07-13T04:39:16.241121Z"
        },
        "trusted": true,
        "id": "LQ75Ch2IhsEG"
      },
      "execution_count": null,
      "outputs": []
    },
    {
      "cell_type": "code",
      "source": [
        "data.info()"
      ],
      "metadata": {
        "execution": {
          "iopub.status.busy": "2024-07-13T04:39:21.407923Z",
          "iopub.execute_input": "2024-07-13T04:39:21.408318Z",
          "iopub.status.idle": "2024-07-13T04:39:21.43251Z",
          "shell.execute_reply.started": "2024-07-13T04:39:21.408289Z",
          "shell.execute_reply": "2024-07-13T04:39:21.431296Z"
        },
        "trusted": true,
        "id": "SYRhWs_YhsEG"
      },
      "execution_count": null,
      "outputs": []
    },
    {
      "cell_type": "code",
      "source": [
        "#Data Preprocessing"
      ],
      "metadata": {
        "execution": {
          "iopub.status.busy": "2024-07-13T04:39:49.100421Z",
          "iopub.execute_input": "2024-07-13T04:39:49.100773Z",
          "iopub.status.idle": "2024-07-13T04:39:49.105872Z",
          "shell.execute_reply.started": "2024-07-13T04:39:49.100745Z",
          "shell.execute_reply": "2024-07-13T04:39:49.1043Z"
        },
        "trusted": true,
        "id": "DZWVoopGhsEH"
      },
      "execution_count": null,
      "outputs": []
    },
    {
      "cell_type": "code",
      "source": [
        "data.columns"
      ],
      "metadata": {
        "execution": {
          "iopub.status.busy": "2024-07-13T04:39:25.069694Z",
          "iopub.execute_input": "2024-07-13T04:39:25.070144Z",
          "iopub.status.idle": "2024-07-13T04:39:25.077831Z",
          "shell.execute_reply.started": "2024-07-13T04:39:25.070109Z",
          "shell.execute_reply": "2024-07-13T04:39:25.07652Z"
        },
        "trusted": true,
        "id": "XCyM8Sz5hsEH"
      },
      "execution_count": null,
      "outputs": []
    },
    {
      "cell_type": "code",
      "source": [
        "data[['Motor']].value_counts()"
      ],
      "metadata": {
        "execution": {
          "iopub.status.busy": "2024-07-13T04:39:30.899903Z",
          "iopub.execute_input": "2024-07-13T04:39:30.900333Z",
          "iopub.status.idle": "2024-07-13T04:39:30.917467Z",
          "shell.execute_reply.started": "2024-07-13T04:39:30.900299Z",
          "shell.execute_reply": "2024-07-13T04:39:30.915909Z"
        },
        "trusted": true,
        "id": "Mp9ByEgFhsEH"
      },
      "execution_count": null,
      "outputs": []
    },
    {
      "cell_type": "code",
      "source": [
        "data[['Screw']].value_counts()"
      ],
      "metadata": {
        "execution": {
          "iopub.status.busy": "2024-07-13T04:39:53.930342Z",
          "iopub.execute_input": "2024-07-13T04:39:53.930732Z",
          "iopub.status.idle": "2024-07-13T04:39:53.944032Z",
          "shell.execute_reply.started": "2024-07-13T04:39:53.930699Z",
          "shell.execute_reply": "2024-07-13T04:39:53.94255Z"
        },
        "trusted": true,
        "id": "BdfJO3NAhsEH"
      },
      "execution_count": null,
      "outputs": []
    },
    {
      "cell_type": "code",
      "source": [
        "data.replace({'Motor':{'A':0,'B':1,'C':2,'D':3,'E':4}},inplace=True)"
      ],
      "metadata": {
        "execution": {
          "iopub.status.busy": "2024-07-13T04:40:02.279659Z",
          "iopub.execute_input": "2024-07-13T04:40:02.280063Z",
          "iopub.status.idle": "2024-07-13T04:40:02.286499Z",
          "shell.execute_reply.started": "2024-07-13T04:40:02.280016Z",
          "shell.execute_reply": "2024-07-13T04:40:02.285018Z"
        },
        "trusted": true,
        "id": "sHd0P2cshsEH"
      },
      "execution_count": null,
      "outputs": []
    },
    {
      "cell_type": "code",
      "source": [
        "data.replace({'Screw':{'A':0,'B':1,'C':2,'D':3,'E':4}},inplace=True)"
      ],
      "metadata": {
        "execution": {
          "iopub.status.busy": "2024-07-13T04:40:04.799975Z",
          "iopub.execute_input": "2024-07-13T04:40:04.800375Z",
          "iopub.status.idle": "2024-07-13T04:40:04.806335Z",
          "shell.execute_reply.started": "2024-07-13T04:40:04.800344Z",
          "shell.execute_reply": "2024-07-13T04:40:04.805269Z"
        },
        "trusted": true,
        "id": "Cvi9UKLjhsEH"
      },
      "execution_count": null,
      "outputs": []
    },
    {
      "cell_type": "code",
      "source": [
        "#Define Target Variable (y) and Feature Variables (X)"
      ],
      "metadata": {
        "execution": {
          "iopub.status.busy": "2024-07-13T04:40:08.45338Z",
          "iopub.execute_input": "2024-07-13T04:40:08.453736Z",
          "iopub.status.idle": "2024-07-13T04:40:08.459468Z",
          "shell.execute_reply.started": "2024-07-13T04:40:08.453709Z",
          "shell.execute_reply": "2024-07-13T04:40:08.458133Z"
        },
        "trusted": true,
        "id": "5UidpHf-hsEH"
      },
      "execution_count": null,
      "outputs": []
    },
    {
      "cell_type": "code",
      "source": [
        "y = data['Class']"
      ],
      "metadata": {
        "execution": {
          "iopub.status.busy": "2024-07-13T04:40:12.250989Z",
          "iopub.execute_input": "2024-07-13T04:40:12.251395Z",
          "iopub.status.idle": "2024-07-13T04:40:12.256705Z",
          "shell.execute_reply.started": "2024-07-13T04:40:12.251365Z",
          "shell.execute_reply": "2024-07-13T04:40:12.255337Z"
        },
        "trusted": true,
        "id": "w_gWASPvhsEI"
      },
      "execution_count": null,
      "outputs": []
    },
    {
      "cell_type": "code",
      "source": [
        "y.shape"
      ],
      "metadata": {
        "execution": {
          "iopub.status.busy": "2024-07-13T04:40:13.772164Z",
          "iopub.execute_input": "2024-07-13T04:40:13.772528Z",
          "iopub.status.idle": "2024-07-13T04:40:13.781181Z",
          "shell.execute_reply.started": "2024-07-13T04:40:13.7725Z",
          "shell.execute_reply": "2024-07-13T04:40:13.779914Z"
        },
        "trusted": true,
        "id": "17k6D163hsEI"
      },
      "execution_count": null,
      "outputs": []
    },
    {
      "cell_type": "code",
      "source": [
        "y"
      ],
      "metadata": {
        "execution": {
          "iopub.status.busy": "2024-07-13T04:40:18.551673Z",
          "iopub.execute_input": "2024-07-13T04:40:18.55208Z",
          "iopub.status.idle": "2024-07-13T04:40:18.560797Z",
          "shell.execute_reply.started": "2024-07-13T04:40:18.552049Z",
          "shell.execute_reply": "2024-07-13T04:40:18.559647Z"
        },
        "trusted": true,
        "id": "unLQbR8ohsEI"
      },
      "execution_count": null,
      "outputs": []
    },
    {
      "cell_type": "code",
      "source": [
        "X= data[['Motor','Screw','Pgain','Vgain']]"
      ],
      "metadata": {
        "execution": {
          "iopub.status.busy": "2024-07-13T04:40:22.260008Z",
          "iopub.execute_input": "2024-07-13T04:40:22.260426Z",
          "iopub.status.idle": "2024-07-13T04:40:22.268442Z",
          "shell.execute_reply.started": "2024-07-13T04:40:22.260395Z",
          "shell.execute_reply": "2024-07-13T04:40:22.267286Z"
        },
        "trusted": true,
        "id": "mudw3ufthsEI"
      },
      "execution_count": null,
      "outputs": []
    },
    {
      "cell_type": "code",
      "source": [
        "X.shape"
      ],
      "metadata": {
        "execution": {
          "iopub.status.busy": "2024-07-13T04:40:25.699515Z",
          "iopub.execute_input": "2024-07-13T04:40:25.699897Z",
          "iopub.status.idle": "2024-07-13T04:40:25.706741Z",
          "shell.execute_reply.started": "2024-07-13T04:40:25.699864Z",
          "shell.execute_reply": "2024-07-13T04:40:25.705521Z"
        },
        "trusted": true,
        "id": "89s4MMjxhsEI"
      },
      "execution_count": null,
      "outputs": []
    },
    {
      "cell_type": "code",
      "source": [
        "X"
      ],
      "metadata": {
        "execution": {
          "iopub.status.busy": "2024-07-13T04:40:30.490016Z",
          "iopub.execute_input": "2024-07-13T04:40:30.490414Z",
          "iopub.status.idle": "2024-07-13T04:40:30.503169Z",
          "shell.execute_reply.started": "2024-07-13T04:40:30.490383Z",
          "shell.execute_reply": "2024-07-13T04:40:30.501846Z"
        },
        "trusted": true,
        "id": "R6mGnjenhsEI"
      },
      "execution_count": null,
      "outputs": []
    },
    {
      "cell_type": "code",
      "source": [
        "#Train Test Split"
      ],
      "metadata": {
        "execution": {
          "iopub.status.busy": "2024-07-12T14:53:40.643887Z",
          "iopub.execute_input": "2024-07-12T14:53:40.644927Z",
          "iopub.status.idle": "2024-07-12T14:53:40.649776Z",
          "shell.execute_reply.started": "2024-07-12T14:53:40.644884Z",
          "shell.execute_reply": "2024-07-12T14:53:40.648237Z"
        },
        "trusted": true,
        "id": "LuSVjDQHhsEI"
      },
      "execution_count": null,
      "outputs": []
    },
    {
      "cell_type": "code",
      "source": [
        "from sklearn.model_selection import train_test_split"
      ],
      "metadata": {
        "execution": {
          "iopub.status.busy": "2024-07-13T04:40:42.200276Z",
          "iopub.execute_input": "2024-07-13T04:40:42.20064Z",
          "iopub.status.idle": "2024-07-13T04:40:42.88539Z",
          "shell.execute_reply.started": "2024-07-13T04:40:42.200613Z",
          "shell.execute_reply": "2024-07-13T04:40:42.884141Z"
        },
        "trusted": true,
        "id": "9WhymHt_hsEI"
      },
      "execution_count": null,
      "outputs": []
    },
    {
      "cell_type": "code",
      "source": [
        "X_train,X_test,y_train,y_test = train_test_split(X,y,test_size =0.3 ,random_state =2529)"
      ],
      "metadata": {
        "execution": {
          "iopub.status.busy": "2024-07-13T04:40:46.05049Z",
          "iopub.execute_input": "2024-07-13T04:40:46.050879Z",
          "iopub.status.idle": "2024-07-13T04:40:46.061301Z",
          "shell.execute_reply.started": "2024-07-13T04:40:46.05085Z",
          "shell.execute_reply": "2024-07-13T04:40:46.060023Z"
        },
        "trusted": true,
        "id": "MyWfV4H-hsEI"
      },
      "execution_count": null,
      "outputs": []
    },
    {
      "cell_type": "code",
      "source": [
        "X_train.shape,X_test.shape,y_train.shape,y_test.shape"
      ],
      "metadata": {
        "execution": {
          "iopub.status.busy": "2024-07-13T04:40:50.850013Z",
          "iopub.execute_input": "2024-07-13T04:40:50.850403Z",
          "iopub.status.idle": "2024-07-13T04:40:50.857753Z",
          "shell.execute_reply.started": "2024-07-13T04:40:50.850374Z",
          "shell.execute_reply": "2024-07-13T04:40:50.856562Z"
        },
        "trusted": true,
        "id": "ObdMBUCKhsEJ"
      },
      "execution_count": null,
      "outputs": []
    },
    {
      "cell_type": "code",
      "source": [
        "#Modeling"
      ],
      "metadata": {
        "execution": {
          "iopub.status.busy": "2024-07-13T04:40:54.470317Z",
          "iopub.execute_input": "2024-07-13T04:40:54.470812Z",
          "iopub.status.idle": "2024-07-13T04:40:54.476498Z",
          "shell.execute_reply.started": "2024-07-13T04:40:54.470771Z",
          "shell.execute_reply": "2024-07-13T04:40:54.475117Z"
        },
        "trusted": true,
        "id": "JbGAqs_mhsEJ"
      },
      "execution_count": null,
      "outputs": []
    },
    {
      "cell_type": "code",
      "source": [
        "from sklearn.linear_model import LinearRegression"
      ],
      "metadata": {
        "execution": {
          "iopub.status.busy": "2024-07-13T04:40:57.619716Z",
          "iopub.execute_input": "2024-07-13T04:40:57.620133Z",
          "iopub.status.idle": "2024-07-13T04:40:57.726179Z",
          "shell.execute_reply.started": "2024-07-13T04:40:57.620097Z",
          "shell.execute_reply": "2024-07-13T04:40:57.725134Z"
        },
        "trusted": true,
        "id": "UaS8RQ6khsEJ"
      },
      "execution_count": null,
      "outputs": []
    },
    {
      "cell_type": "code",
      "source": [
        "lr = LinearRegression()"
      ],
      "metadata": {
        "execution": {
          "iopub.status.busy": "2024-07-13T04:41:07.54Z",
          "iopub.execute_input": "2024-07-13T04:41:07.54041Z",
          "iopub.status.idle": "2024-07-13T04:41:07.545472Z",
          "shell.execute_reply.started": "2024-07-13T04:41:07.540381Z",
          "shell.execute_reply": "2024-07-13T04:41:07.544282Z"
        },
        "trusted": true,
        "id": "FsowElmshsEJ"
      },
      "execution_count": null,
      "outputs": []
    },
    {
      "cell_type": "code",
      "source": [
        "lr.fit(X_train, y_train)"
      ],
      "metadata": {
        "execution": {
          "iopub.status.busy": "2024-07-13T04:41:08.869705Z",
          "iopub.execute_input": "2024-07-13T04:41:08.870177Z",
          "iopub.status.idle": "2024-07-13T04:41:08.902645Z",
          "shell.execute_reply.started": "2024-07-13T04:41:08.870139Z",
          "shell.execute_reply": "2024-07-13T04:41:08.901452Z"
        },
        "trusted": true,
        "id": "GUoNAibehsEJ"
      },
      "execution_count": null,
      "outputs": []
    },
    {
      "cell_type": "code",
      "source": [
        "#data prediction"
      ],
      "metadata": {
        "execution": {
          "iopub.status.busy": "2024-07-13T04:41:13.909697Z",
          "iopub.execute_input": "2024-07-13T04:41:13.910242Z",
          "iopub.status.idle": "2024-07-13T04:41:13.915429Z",
          "shell.execute_reply.started": "2024-07-13T04:41:13.910208Z",
          "shell.execute_reply": "2024-07-13T04:41:13.914241Z"
        },
        "trusted": true,
        "id": "GHs_YVrEhsEJ"
      },
      "execution_count": null,
      "outputs": []
    },
    {
      "cell_type": "code",
      "source": [
        "y_pred = lr.predict(X_test)"
      ],
      "metadata": {
        "execution": {
          "iopub.status.busy": "2024-07-13T04:41:15.060283Z",
          "iopub.execute_input": "2024-07-13T04:41:15.060692Z",
          "iopub.status.idle": "2024-07-13T04:41:15.068147Z",
          "shell.execute_reply.started": "2024-07-13T04:41:15.060661Z",
          "shell.execute_reply": "2024-07-13T04:41:15.06681Z"
        },
        "trusted": true,
        "id": "_E6tPoFehsEJ"
      },
      "execution_count": null,
      "outputs": []
    },
    {
      "cell_type": "code",
      "source": [
        "y_pred.shape"
      ],
      "metadata": {
        "execution": {
          "iopub.status.busy": "2024-07-13T04:41:16.179293Z",
          "iopub.execute_input": "2024-07-13T04:41:16.179682Z",
          "iopub.status.idle": "2024-07-13T04:41:16.188207Z",
          "shell.execute_reply.started": "2024-07-13T04:41:16.179647Z",
          "shell.execute_reply": "2024-07-13T04:41:16.18691Z"
        },
        "trusted": true,
        "id": "T9_BLMWRhsEJ"
      },
      "execution_count": null,
      "outputs": []
    },
    {
      "cell_type": "code",
      "source": [
        "y_pred"
      ],
      "metadata": {
        "execution": {
          "iopub.status.busy": "2024-07-13T04:41:21.169477Z",
          "iopub.execute_input": "2024-07-13T04:41:21.169886Z",
          "iopub.status.idle": "2024-07-13T04:41:21.177319Z",
          "shell.execute_reply.started": "2024-07-13T04:41:21.169852Z",
          "shell.execute_reply": "2024-07-13T04:41:21.17612Z"
        },
        "trusted": true,
        "id": "cgp5xRC0hsEJ"
      },
      "execution_count": null,
      "outputs": []
    },
    {
      "cell_type": "code",
      "source": [
        "#model evaluation"
      ],
      "metadata": {
        "execution": {
          "iopub.status.busy": "2024-07-13T04:41:26.499566Z",
          "iopub.execute_input": "2024-07-13T04:41:26.500313Z",
          "iopub.status.idle": "2024-07-13T04:41:26.504596Z",
          "shell.execute_reply.started": "2024-07-13T04:41:26.500274Z",
          "shell.execute_reply": "2024-07-13T04:41:26.503493Z"
        },
        "trusted": true,
        "id": "kM4j_O64hsEK"
      },
      "execution_count": null,
      "outputs": []
    },
    {
      "cell_type": "code",
      "source": [
        "from sklearn.metrics import mean_squared_error, mean_absolute_error, r2_score"
      ],
      "metadata": {
        "execution": {
          "iopub.status.busy": "2024-07-13T04:41:27.679691Z",
          "iopub.execute_input": "2024-07-13T04:41:27.680182Z",
          "iopub.status.idle": "2024-07-13T04:41:27.685786Z",
          "shell.execute_reply.started": "2024-07-13T04:41:27.680143Z",
          "shell.execute_reply": "2024-07-13T04:41:27.684609Z"
        },
        "trusted": true,
        "id": "SUBQXpbGhsEK"
      },
      "execution_count": null,
      "outputs": []
    },
    {
      "cell_type": "code",
      "source": [
        "mean_squared_error(y_test,y_pred)"
      ],
      "metadata": {
        "execution": {
          "iopub.status.busy": "2024-07-13T04:41:29.399936Z",
          "iopub.execute_input": "2024-07-13T04:41:29.401001Z",
          "iopub.status.idle": "2024-07-13T04:41:29.408656Z",
          "shell.execute_reply.started": "2024-07-13T04:41:29.400952Z",
          "shell.execute_reply": "2024-07-13T04:41:29.407139Z"
        },
        "trusted": true,
        "id": "4l0_b6T1hsEK"
      },
      "execution_count": null,
      "outputs": []
    },
    {
      "cell_type": "code",
      "source": [
        "r2_score(y_test,y_pred)"
      ],
      "metadata": {
        "execution": {
          "iopub.status.busy": "2024-07-13T04:41:36.729854Z",
          "iopub.execute_input": "2024-07-13T04:41:36.730265Z",
          "iopub.status.idle": "2024-07-13T04:41:36.738401Z",
          "shell.execute_reply.started": "2024-07-13T04:41:36.730232Z",
          "shell.execute_reply": "2024-07-13T04:41:36.736974Z"
        },
        "trusted": true,
        "id": "uDyw4uEihsEK"
      },
      "execution_count": null,
      "outputs": []
    },
    {
      "cell_type": "code",
      "source": [
        "#data visualization"
      ],
      "metadata": {
        "execution": {
          "iopub.status.busy": "2024-07-13T04:41:32.829788Z",
          "iopub.execute_input": "2024-07-13T04:41:32.830172Z",
          "iopub.status.idle": "2024-07-13T04:41:32.834895Z",
          "shell.execute_reply.started": "2024-07-13T04:41:32.830142Z",
          "shell.execute_reply": "2024-07-13T04:41:32.833636Z"
        },
        "trusted": true,
        "id": "gtixY0tUhsEK"
      },
      "execution_count": null,
      "outputs": []
    },
    {
      "cell_type": "code",
      "source": [
        "plt.scatter(y_test,y_pred)\n",
        "plt.xlabel('Actual')\n",
        "plt.ylabel('Predicted')\n",
        "plt.title(\"Actual vs Predicted\")\n",
        "plt.show()"
      ],
      "metadata": {
        "execution": {
          "iopub.status.busy": "2024-07-13T04:41:39.412192Z",
          "iopub.execute_input": "2024-07-13T04:41:39.412582Z",
          "iopub.status.idle": "2024-07-13T04:41:39.698933Z",
          "shell.execute_reply.started": "2024-07-13T04:41:39.412552Z",
          "shell.execute_reply": "2024-07-13T04:41:39.697546Z"
        },
        "trusted": true,
        "id": "F6O4H2URhsEO"
      },
      "execution_count": null,
      "outputs": []
    },
    {
      "cell_type": "code",
      "source": [
        "#Explanation: step 1-Import Libraries\n",
        "#step 1-Import Libraries(First, you need to import the necessary Python libraries.)\n",
        "#step 2-Load and Preprocess Data(Load your dataset and perform any necessary preprocessing steps.)\n",
        "#step 3-Spliting Data into Training and Testing Sets\n",
        "#step 4-Train the Linear Regression Model\n",
        "#step 5-Make Predictions\n",
        "#step 6-Evaluate the Model\n",
        "#step 7-Visualize the Results\n",
        ""
      ],
      "metadata": {
        "execution": {
          "iopub.status.busy": "2024-07-13T04:41:43.749874Z",
          "iopub.execute_input": "2024-07-13T04:41:43.750307Z",
          "iopub.status.idle": "2024-07-13T04:41:43.755451Z",
          "shell.execute_reply.started": "2024-07-13T04:41:43.750275Z",
          "shell.execute_reply": "2024-07-13T04:41:43.75405Z"
        },
        "trusted": true,
        "id": "Prm9rgOWhsEO"
      },
      "execution_count": null,
      "outputs": []
    },
    {
      "cell_type": "code",
      "source": [],
      "metadata": {
        "id": "tpk54bbBhsEO"
      },
      "execution_count": null,
      "outputs": []
    }
  ]
}